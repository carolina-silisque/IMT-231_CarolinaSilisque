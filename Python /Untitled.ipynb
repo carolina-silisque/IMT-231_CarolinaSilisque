{
 "cells": [
  {
   "cell_type": "markdown",
   "id": "8f6fca9f-3491-4572-8904-3f373cd5bda2",
   "metadata": {},
   "source": [
    "Bucles for "
   ]
  },
  {
   "cell_type": "code",
   "execution_count": 4,
   "id": "6870b481-5cbc-4adb-8a30-c93c1693b9cb",
   "metadata": {},
   "outputs": [
    {
     "name": "stdout",
     "output_type": "stream",
     "text": [
      "1\n",
      "2\n",
      "3\n",
      "4\n",
      "5\n",
      "6\n",
      "7\n",
      "8\n",
      "9\n",
      "10\n",
      "11\n",
      "12\n",
      "13\n",
      "14\n",
      "15\n",
      "16\n",
      "17\n",
      "18\n",
      "19\n"
     ]
    }
   ],
   "source": [
    "for i in range(1,20):\n",
    "    print(i)"
   ]
  },
  {
   "cell_type": "code",
   "execution_count": 5,
   "id": "fc27c050-516c-4aef-88de-ad663a0a896a",
   "metadata": {},
   "outputs": [
    {
     "name": "stdout",
     "output_type": "stream",
     "text": [
      "1\n",
      "3\n",
      "5\n",
      "7\n",
      "9\n",
      "11\n",
      "13\n",
      "15\n",
      "17\n",
      "19\n"
     ]
    }
   ],
   "source": [
    "for i in range(1,20,2):\n",
    "    print(i)"
   ]
  },
  {
   "cell_type": "markdown",
   "id": "00e3e565-c300-42f5-9db8-1f7c2ccda5bf",
   "metadata": {},
   "source": [
    "\n",
    "1. Repetir un mensaje "
   ]
  },
  {
   "cell_type": "code",
   "execution_count": 7,
   "id": "89ea895f-eb64-4cf6-8155-1792a37ce8e0",
   "metadata": {},
   "outputs": [
    {
     "name": "stdin",
     "output_type": "stream",
     "text": [
      "ingrese un mensaje para repetirlo  hola silis\n",
      "ingrese la cantidad de repeticiones del mensaje   4\n"
     ]
    },
    {
     "name": "stdout",
     "output_type": "stream",
     "text": [
      "hola silis\n",
      "hola silis\n",
      "hola silis\n",
      "hola silis\n"
     ]
    }
   ],
   "source": [
    "msj = input(\"ingrese un mensaje para repetirlo \")\n",
    "num = int(input(\"ingrese la cantidad de repeticiones del mensaje  \"))\n",
    "for i in range(num):\n",
    "    print(msj)"
   ]
  },
  {
   "cell_type": "markdown",
   "id": "3b1cb873-84a6-494c-8908-4100eaeae943",
   "metadata": {},
   "source": [
    " 2. contar del 1 al 10"
   ]
  },
  {
   "cell_type": "code",
   "execution_count": 8,
   "id": "15989daa-90be-41b3-b247-42abd0408775",
   "metadata": {},
   "outputs": [
    {
     "name": "stdout",
     "output_type": "stream",
     "text": [
      "1\n",
      "2\n",
      "3\n",
      "4\n",
      "5\n",
      "6\n",
      "7\n",
      "8\n",
      "9\n",
      "10\n"
     ]
    }
   ],
   "source": [
    "for i in range(1,11):\n",
    "    print(i)"
   ]
  },
  {
   "cell_type": "markdown",
   "id": "918df53d-5607-4a52-908d-6f0c7d170c90",
   "metadata": {},
   "source": [
    "3. contar hacia atras \n"
   ]
  },
  {
   "cell_type": "code",
   "execution_count": 9,
   "id": "95c3547f-4dd2-4781-b713-8ecf91ac25b4",
   "metadata": {},
   "outputs": [
    {
     "name": "stdout",
     "output_type": "stream",
     "text": [
      "10\n",
      "9\n",
      "8\n",
      "7\n",
      "6\n",
      "5\n",
      "4\n",
      "3\n",
      "2\n",
      "1\n"
     ]
    }
   ],
   "source": [
    "for i in range (10,0, -1):\n",
    "    print(i)\n",
    "    "
   ]
  },
  {
   "cell_type": "markdown",
   "id": "892ee89a-97e6-490a-a1d0-eb39d970ad68",
   "metadata": {},
   "source": [
    "4. suma de los primeros n numeros"
   ]
  },
  {
   "cell_type": "code",
   "execution_count": 28,
   "id": "bbe71500-10c6-432f-9753-27579b11b236",
   "metadata": {},
   "outputs": [
    {
     "name": "stdin",
     "output_type": "stream",
     "text": [
      "ingrese un numero  4\n"
     ]
    },
    {
     "name": "stdout",
     "output_type": "stream",
     "text": [
      "10\n"
     ]
    }
   ],
   "source": [
    "suma =0\n",
    "num = int(input(\"ingrese un numero \"))\n",
    "for i in range (num+1):\n",
    "    suma = suma  +i\n",
    "print(suma)\n"
   ]
  },
  {
   "cell_type": "markdown",
   "id": "0b59de7f-6733-4a5b-a8bb-531208b63202",
   "metadata": {},
   "source": [
    "5. tabla de multiplicar "
   ]
  },
  {
   "cell_type": "code",
   "execution_count": 38,
   "id": "a90729a3-253d-4968-8e13-d247de1c6751",
   "metadata": {},
   "outputs": [
    {
     "name": "stdin",
     "output_type": "stream",
     "text": [
      "ingrese un numero para tener su tabla de multiplicar  5\n"
     ]
    },
    {
     "name": "stdout",
     "output_type": "stream",
     "text": [
      "5* 0 = 0\n",
      "5* 1 = 5\n",
      "5* 2 = 10\n",
      "5* 3 = 15\n",
      "5* 4 = 20\n",
      "5* 5 = 25\n",
      "5* 6 = 30\n",
      "5* 7 = 35\n",
      "5* 8 = 40\n",
      "5* 9 = 45\n",
      "5* 10 = 50\n"
     ]
    }
   ],
   "source": [
    "mult =1\n",
    "num = int(input(\"ingrese un numero para tener su tabla de multiplicar \"))\n",
    "for i in range (11):\n",
    "    mult = num *i\n",
    "    print(f\"{num}* {i} = {mult}\")"
   ]
  },
  {
   "cell_type": "markdown",
   "id": "9bde1c97-b712-48bc-afed-40bd5eb7900b",
   "metadata": {},
   "source": [
    "6. numeros pares entre 1 y 100"
   ]
  },
  {
   "cell_type": "code",
   "execution_count": 43,
   "id": "33736556-0bf0-41ea-91f3-692133ace4da",
   "metadata": {},
   "outputs": [
    {
     "name": "stdout",
     "output_type": "stream",
     "text": [
      "0\n",
      "2\n",
      "4\n",
      "6\n",
      "8\n",
      "10\n",
      "12\n",
      "14\n",
      "16\n",
      "18\n",
      "20\n",
      "22\n",
      "24\n",
      "26\n",
      "28\n",
      "30\n",
      "32\n",
      "34\n",
      "36\n",
      "38\n",
      "40\n",
      "42\n",
      "44\n",
      "46\n",
      "48\n",
      "50\n",
      "52\n",
      "54\n",
      "56\n",
      "58\n",
      "60\n",
      "62\n",
      "64\n",
      "66\n",
      "68\n",
      "70\n",
      "72\n",
      "74\n",
      "76\n",
      "78\n",
      "80\n",
      "82\n",
      "84\n",
      "86\n",
      "88\n",
      "90\n",
      "92\n",
      "94\n",
      "96\n",
      "98\n",
      "100\n"
     ]
    }
   ],
   "source": [
    "for i in range (0,101,2):\n",
    "    print(i)"
   ]
  },
  {
   "cell_type": "markdown",
   "id": "fedf8716-a218-49a2-bfa9-d19871912cd2",
   "metadata": {},
   "source": [
    "7. lista de nombres"
   ]
  },
  {
   "cell_type": "code",
   "execution_count": 55,
   "id": "d2d20f04-b3b4-45a8-9189-9c59dddfeadd",
   "metadata": {},
   "outputs": [
    {
     "name": "stdin",
     "output_type": "stream",
     "text": [
      "ingrese la cantidad de nombres que colocara 2\n",
      "ingrese el nombre Carolina\n"
     ]
    },
    {
     "name": "stdout",
     "output_type": "stream",
     "text": [
      "1. Carolina \n"
     ]
    },
    {
     "name": "stdin",
     "output_type": "stream",
     "text": [
      "ingrese el nombre Adrian\n"
     ]
    },
    {
     "name": "stdout",
     "output_type": "stream",
     "text": [
      "2. Adrian \n"
     ]
    }
   ],
   "source": [
    "n = int(input(\"ingrese la cantidad de nombres que colocara\"))\n",
    "for i in range (1,n+1):\n",
    "    nombres = str(input(\"ingrese el nombre\"))\n",
    "    print(f\"{i}. {nombres} \")"
   ]
  },
  {
   "cell_type": "markdown",
   "id": "722ea13f-73b7-419c-8cab-df1ea2f38b8a",
   "metadata": {},
   "source": [
    "8. sumar solo los multiplos de 3 "
   ]
  },
  {
   "cell_type": "code",
   "execution_count": 58,
   "id": "32a34d80-893c-45e6-bb11-bfc2e4059e23",
   "metadata": {},
   "outputs": [
    {
     "name": "stdin",
     "output_type": "stream",
     "text": [
      "ingrese un numero limite 24\n"
     ]
    },
    {
     "name": "stdout",
     "output_type": "stream",
     "text": [
      "108\n"
     ]
    }
   ],
   "source": [
    "n = int(input(\"ingrese un numero limite\"))\n",
    "suma =0\n",
    "for i in range (1,n+1):\n",
    "    if (i%3 ==0):\n",
    "        suma = suma +i\n",
    "print (suma)"
   ]
  },
  {
   "cell_type": "markdown",
   "id": "dc867d94-b6a9-4777-a1e9-0e5d808347ab",
   "metadata": {},
   "source": [
    "\n",
    "9. contador de vocales"
   ]
  },
  {
   "cell_type": "code",
   "execution_count": 59,
   "id": "f7217359-f8ce-4ec4-aba1-4486f6be2e68",
   "metadata": {},
   "outputs": [
    {
     "name": "stdin",
     "output_type": "stream",
     "text": [
      "Ingrese una palabra:  cAROlina\n"
     ]
    },
    {
     "name": "stdout",
     "output_type": "stream",
     "text": [
      "La palabra 'carolina' tiene 4 vocales.\n"
     ]
    }
   ],
   "source": [
    "palabra = input(\"Ingrese una palabra: \").lower()\n",
    "vocales = \"aeiou\"\n",
    "contador = 0\n",
    "for letra in palabra:\n",
    "    if letra in vocales:\n",
    "        contador += 1\n",
    "\n",
    "print(f\"La palabra '{palabra}' tiene {contador} vocales.\")\n",
    "\n",
    "\n"
   ]
  },
  {
   "cell_type": "markdown",
   "id": "b2239939-ea51-4b7a-b75b-c5621a10b09d",
   "metadata": {},
   "source": [
    "10. serie de Factorial"
   ]
  },
  {
   "cell_type": "code",
   "execution_count": 76,
   "id": "6fc1d9c3-2397-466f-a430-be23bcb724b7",
   "metadata": {},
   "outputs": [
    {
     "name": "stdin",
     "output_type": "stream",
     "text": [
      "ingrese un numero para contaar su factorial 5\n"
     ]
    },
    {
     "name": "stdout",
     "output_type": "stream",
     "text": [
      "5! = x12345 x = 120\n"
     ]
    }
   ],
   "source": [
    "n = int (input(\"ingrese un numero para contaar su factorial\"))\n",
    "factorial = 1\n",
    "cadena  =\"\"\n",
    "for i in range (1,n+1):\n",
    "    factorial = factorial *i\n",
    "    cadena+= str (i)\n",
    "\n",
    "print (f\"{n}! = {cadena } = {factorial}\")\n"
   ]
  },
  {
   "cell_type": "code",
   "execution_count": null,
   "id": "861991e7-fe54-478c-9c18-f267c2936d66",
   "metadata": {},
   "outputs": [],
   "source": []
  }
 ],
 "metadata": {
  "kernelspec": {
   "display_name": "Python 3 (ipykernel)",
   "language": "python",
   "name": "python3"
  },
  "language_info": {
   "codemirror_mode": {
    "name": "ipython",
    "version": 3
   },
   "file_extension": ".py",
   "mimetype": "text/x-python",
   "name": "python",
   "nbconvert_exporter": "python",
   "pygments_lexer": "ipython3",
   "version": "3.11.11"
  }
 },
 "nbformat": 4,
 "nbformat_minor": 5
}
