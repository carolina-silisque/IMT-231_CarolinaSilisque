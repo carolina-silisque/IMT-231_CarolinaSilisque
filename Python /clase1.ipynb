{
 "cells": [
  {
   "cell_type": "code",
   "execution_count": 3,
   "id": "3625c2ad-0675-4f57-a172-8c235067e185",
   "metadata": {},
   "outputs": [
    {
     "name": "stdout",
     "output_type": "stream",
     "text": [
      "hola Mundo\n"
     ]
    }
   ],
   "source": [
    "print(\"hola Mundo\")\n",
    "#primer comentrio"
   ]
  },
  {
   "cell_type": "code",
   "execution_count": null,
   "id": "6125a3e4-ddff-4911-a750-cd0c4bbfa970",
   "metadata": {},
   "outputs": [],
   "source": [
    "#variables \n",
    "nombreVariable=124    #int\n",
    "B=\"paalabras\"         #string\n",
    "PI=3.14               #\n",
    "C='a'                 # char\n",
    "D=2.234567890987654   #float\n"
   ]
  },
  {
   "cell_type": "markdown",
   "id": "3a043e75-a3f3-4c9a-b406-1e800ac740bc",
   "metadata": {},
   "source": [
    "print (type(nombreVariable))\n",
    "print(type(B))"
   ]
  },
  {
   "cell_type": "code",
   "execution_count": 8,
   "id": "991b3112-5279-4e2e-8553-c0e84be8cb95",
   "metadata": {},
   "outputs": [
    {
     "name": "stdin",
     "output_type": "stream",
     "text": [
      "ingrese nommbre  ooo\n"
     ]
    },
    {
     "name": "stdout",
     "output_type": "stream",
     "text": [
      "gola ooo\n"
     ]
    }
   ],
   "source": [
    "var=input(\"ingrese nommbre \")\n",
    "print(f\"hola\", var)"
   ]
  },
  {
   "cell_type": "code",
   "execution_count": 16,
   "id": "557430db-5b53-4bc6-9527-fe84eef1da86",
   "metadata": {},
   "outputs": [
    {
     "name": "stdin",
     "output_type": "stream",
     "text": [
      "ingrese el primer numero 5\n",
      "ingrese el segundo numero 4\n"
     ]
    },
    {
     "name": "stdout",
     "output_type": "stream",
     "text": [
      "el valor de la multiplicacion es 20\n"
     ]
    }
   ],
   "source": [
    "num1 = int (input(\"ingrese el primer numero\"))\n",
    "num2 = int (input(\"ingrese el segundo numero\"))\n",
    "print(f\"el valor de la multiplicacion es {num1*num2}\")"
   ]
  },
  {
   "cell_type": "code",
   "execution_count": 17,
   "id": "b9efb40e-1eb7-4d49-9a68-46f40ef3b101",
   "metadata": {},
   "outputs": [
    {
     "name": "stdout",
     "output_type": "stream",
     "text": [
      "el valor de la multiplicacion es 20\n"
     ]
    }
   ],
   "source": [
    "print(\"el valor de la multiplicacion es\", num1*num2)\n",
    "\n"
   ]
  },
  {
   "cell_type": "markdown",
   "id": "46cf366b-08a7-47fa-80b6-447a26e80207",
   "metadata": {},
   "source": [
    "Ejercicio 1 \n",
    "suma de dos numeros pide al usuari qye i grese dos numero y muestre el resultado de su sum"
   ]
  },
  {
   "cell_type": "code",
   "execution_count": 18,
   "id": "c05e5c04-2119-4e7d-99c4-97a447230f5a",
   "metadata": {},
   "outputs": [
    {
     "name": "stdin",
     "output_type": "stream",
     "text": [
      "ingrese el primer numero 4\n",
      "ingrese el segundo numero 2\n"
     ]
    },
    {
     "name": "stdout",
     "output_type": "stream",
     "text": [
      "el valor de la suma es 6\n"
     ]
    }
   ],
   "source": [
    "num1 = int (input(\"ingrese el primer numero\"))\n",
    "num2 = int (input(\"ingrese el segundo numero\"))\n",
    "print(f\"el valor de la suma es {num1+num2}\")"
   ]
  },
  {
   "cell_type": "markdown",
   "id": "2940bf6f-c966-4aa8-b778-8de2658cf4e8",
   "metadata": {},
   "source": [
    "2. conversion a Celsius a Fahrenheit"
   ]
  },
  {
   "cell_type": "code",
   "execution_count": 23,
   "id": "a60fa87e-c87a-460e-96f2-df219d821d8e",
   "metadata": {},
   "outputs": [
    {
     "name": "stdin",
     "output_type": "stream",
     "text": [
      "ingrese la temeratura en grados C  5\n"
     ]
    },
    {
     "name": "stdout",
     "output_type": "stream",
     "text": [
      "la conversion es (41.0\n"
     ]
    }
   ],
   "source": [
    "\n",
    "gradosC = int(input(f'ingrese la temeratura en grados C '))\n",
    "print (f'la conversion es ({gradosC * 9/5+32 }')\n",
    "\n",
    "       "
   ]
  },
  {
   "cell_type": "markdown",
   "id": "94c8394f-7bbf-4701-90dc-70603fb886be",
   "metadata": {},
   "source": [
    "\n",
    "3. area de un rectangulo  "
   ]
  },
  {
   "cell_type": "code",
   "execution_count": 25,
   "id": "8ac5301b-f25c-4590-9d41-eef296a33d09",
   "metadata": {},
   "outputs": [
    {
     "name": "stdin",
     "output_type": "stream",
     "text": [
      "ingrese la altra del rectnagulo  5\n",
      "ingrese la base del rectaangulo 4\n"
     ]
    },
    {
     "name": "stdout",
     "output_type": "stream",
     "text": [
      "el varea del rectangulo es  20.0\n"
     ]
    }
   ],
   "source": [
    "altura = float (input(\"ingrese la altra del rectnagulo \"))\n",
    "base = int (input(\"ingrese la base del rectaangulo\"))\n",
    "print(f\"el varea del rectangulo es  {altura*base}\")"
   ]
  },
  {
   "cell_type": "markdown",
   "id": "b5989f60-2925-4484-b26e-3f07ea7238bc",
   "metadata": {},
   "source": [
    "\n",
    "4. edad mayor o menor de edad "
   ]
  },
  {
   "cell_type": "code",
   "execution_count": 30,
   "id": "a565f895-28d9-42ec-8e4e-a4d31723ad74",
   "metadata": {},
   "outputs": [
    {
     "name": "stdin",
     "output_type": "stream",
     "text": [
      "ingrese su edad:  5\n"
     ]
    },
    {
     "name": "stdout",
     "output_type": "stream",
     "text": [
      "usted es menor de edad\n"
     ]
    }
   ],
   "source": [
    "edad= int(input(\"ingrese su edad: \"))\n",
    "if (edad > 18):\n",
    "          print(\"usted es mayor de edad\")\n",
    "else  :\n",
    "          print(\"usted es menor de edad\")"
   ]
  },
  {
   "cell_type": "markdown",
   "id": "80d14144-5fb8-4ab5-9911-ea4313494cc4",
   "metadata": {},
   "source": [
    "\n",
    "6. Mensaje personalizado "
   ]
  },
  {
   "cell_type": "code",
   "execution_count": 33,
   "id": "94d76ec9-1e94-4215-acac-65a5501f1393",
   "metadata": {},
   "outputs": [
    {
     "name": "stdin",
     "output_type": "stream",
     "text": [
      "ingrese su nombre carolina\n",
      "ingrese su edad 21\n",
      "ingrese su carrera ing. biomedica \n"
     ]
    },
    {
     "name": "stdout",
     "output_type": "stream",
     "text": [
      "Hola carolina que tiene de edad 21 y estudia ing. biomedica , tenga un buen dia\n"
     ]
    }
   ],
   "source": [
    "nombre = input(\"ingrese su nombre\")\n",
    "edad = int(input(\"ingrese su edad\"))\n",
    "carrera=input(\"ingrese su carrera\")\n",
    "print(f\"Hola {nombre} que tiene de edad {edad} y estudia {carrera}, tenga un buen dia\")"
   ]
  },
  {
   "cell_type": "code",
   "execution_count": null,
   "id": "f6763859-002c-4836-a690-fb5ba496332c",
   "metadata": {},
   "outputs": [],
   "source": []
  }
 ],
 "metadata": {
  "kernelspec": {
   "display_name": "Python 3 (ipykernel)",
   "language": "python",
   "name": "python3"
  },
  "language_info": {
   "codemirror_mode": {
    "name": "ipython",
    "version": 3
   },
   "file_extension": ".py",
   "mimetype": "text/x-python",
   "name": "python",
   "nbconvert_exporter": "python",
   "pygments_lexer": "ipython3",
   "version": "3.11.11"
  }
 },
 "nbformat": 4,
 "nbformat_minor": 5
}
